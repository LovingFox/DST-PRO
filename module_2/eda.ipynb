{
 "cells": [
  {
   "cell_type": "code",
   "execution_count": 1,
   "metadata": {},
   "outputs": [],
   "source": [
    "import numpy as np\n",
    "import pandas as pd\n",
    "import seaborn as sns\n",
    "import matplotlib.pyplot as plt\n",
    "from collections import Counter\n",
    "from datetime import datetime\n",
    "import itertools\n",
    "from itertools import combinations, product\n",
    "from scipy.stats import ttest_ind\n",
    "import random"
   ]
  },
  {
   "cell_type": "markdown",
   "metadata": {},
   "source": [
    "### Далее в ноутбуке меткой  \"<span style='color:red'>Модификация &#8595;</span>\" обозначены изменяющие датафрейм действия"
   ]
  },
  {
   "cell_type": "markdown",
   "metadata": {},
   "source": [
    "1 school — аббревиатура школы, в которой учится ученик\n",
    "\n",
    "2 sex — пол ученика ('F' - женский, 'M' - мужской)\n",
    "\n",
    "3 age — возраст ученика (от 15 до 22)\n",
    "\n",
    "4 address — тип адреса ученика ('U' - городской, 'R' - за городом)\n",
    "\n",
    "5 famsize — размер семьи('LE3' <= 3, 'GT3' >3)\n",
    "\n",
    "6 Pstatus — статус совместного жилья родителей ('T' - живут вместе 'A' - раздельно)\n",
    "\n",
    "7 Medu — образование матери (0 - нет, 1 - 4 класса, 2 - 5-9 классы, 3 - среднее специальное или 11 классов, 4 - высшее)\n",
    "\n",
    "8 Fedu — образование отца (0 - нет, 1 - 4 класса, 2 - 5-9 классы, 3 - среднее специальное или 11 классов, 4 - высшее)\n",
    "\n",
    "9 Mjob — работа матери ('teacher' - учитель, 'health' - сфера здравоохранения, 'services' - гос служба, 'at_home' - не работает, 'other' - другое)\n",
    "\n",
    "10 Fjob — работа отца ('teacher' - учитель, 'health' - сфера здравоохранения, 'services' - гос служба, 'at_home' - не работает, 'other' - другое)\n",
    "\n",
    "11 reason — причина выбора школы ('home' - близость к дому, 'reputation' - репутация школы, 'course' - образовательная программа, 'other' - другое)\n",
    "\n",
    "12 guardian — опекун ('mother' - мать, 'father' - отец, 'other' - другое)\n",
    "\n",
    "13 traveltime — время в пути до школы (1 - <15 мин., 2 - 15-30 мин., 3 - 30-60 мин., 4 - >60 мин.)\n",
    "\n",
    "14 studytime — время на учёбу помимо школы в неделю (1 - <2 часов, 2 - 2-5 часов, 3 - 5-10 часов, 4 - >10 часов)\n",
    "\n",
    "15 failures — количество внеучебных неудач (n, если 1<=n<=3, иначе 0)\n",
    "\n",
    "16 schoolsup — дополнительная образовательная поддержка (yes или no)\n",
    "\n",
    "17 famsup — семейная образовательная поддержка (yes или no)\n",
    "\n",
    "18 paid — дополнительные платные занятия по математике (yes или no)\n",
    "\n",
    "19 activities — дополнительные внеучебные занятия (yes или no)\n",
    "\n",
    "20 nursery — посещал детский сад (yes или no)\n",
    "\n",
    "21 higher — хочет получить высшее образование (yes или no)\n",
    "\n",
    "22 internet — наличие интернета дома (yes или no)\n",
    "\n",
    "23 romantic — в романтических отношениях (yes или no)\n",
    "\n",
    "24 famrel — семейные отношения (от 1 - очень плохо до 5 - очень хорошо)\n",
    "\n",
    "25 freetime — свободное время после школы (от 1 - очень мало до 5 - очень мого)\n",
    "\n",
    "26 goout — проведение времени с друзьями (от 1 - очень мало до 5 - очень много)\n",
    "\n",
    "27 health — текущее состояние здоровья (от 1 - очень плохо до 5 - очень хорошо)\n",
    "\n",
    "28 absences — количество пропущенных занятий\n",
    "\n",
    "29 score — баллы по госэкзамену по математике"
   ]
  },
  {
   "cell_type": "markdown",
   "metadata": {},
   "source": [
    "### <span style='color:blue'>Читаем файл &#8595;</span>"
   ]
  },
  {
   "cell_type": "code",
   "execution_count": 2,
   "metadata": {},
   "outputs": [],
   "source": [
    "stud = pd.read_csv('stud_math.csv')"
   ]
  },
  {
   "cell_type": "code",
   "execution_count": 3,
   "metadata": {},
   "outputs": [],
   "source": [
    "pd.set_option('display.max_columns', 50)\n",
    "pd.set_option('display.expand_frame_repr', True)"
   ]
  },
  {
   "cell_type": "code",
   "execution_count": 4,
   "metadata": {},
   "outputs": [
    {
     "data": {
      "text/html": [
       "<div>\n",
       "<style scoped>\n",
       "    .dataframe tbody tr th:only-of-type {\n",
       "        vertical-align: middle;\n",
       "    }\n",
       "\n",
       "    .dataframe tbody tr th {\n",
       "        vertical-align: top;\n",
       "    }\n",
       "\n",
       "    .dataframe thead th {\n",
       "        text-align: right;\n",
       "    }\n",
       "</style>\n",
       "<table border=\"1\" class=\"dataframe\">\n",
       "  <thead>\n",
       "    <tr style=\"text-align: right;\">\n",
       "      <th></th>\n",
       "      <th>school</th>\n",
       "      <th>sex</th>\n",
       "      <th>age</th>\n",
       "      <th>address</th>\n",
       "      <th>famsize</th>\n",
       "      <th>Pstatus</th>\n",
       "      <th>Medu</th>\n",
       "      <th>Fedu</th>\n",
       "      <th>Mjob</th>\n",
       "      <th>Fjob</th>\n",
       "      <th>reason</th>\n",
       "      <th>guardian</th>\n",
       "      <th>traveltime</th>\n",
       "      <th>studytime</th>\n",
       "      <th>failures</th>\n",
       "      <th>schoolsup</th>\n",
       "      <th>famsup</th>\n",
       "      <th>paid</th>\n",
       "      <th>activities</th>\n",
       "      <th>nursery</th>\n",
       "      <th>studytime, granular</th>\n",
       "      <th>higher</th>\n",
       "      <th>internet</th>\n",
       "      <th>romantic</th>\n",
       "      <th>famrel</th>\n",
       "      <th>freetime</th>\n",
       "      <th>goout</th>\n",
       "      <th>health</th>\n",
       "      <th>absences</th>\n",
       "      <th>score</th>\n",
       "    </tr>\n",
       "  </thead>\n",
       "  <tbody>\n",
       "    <tr>\n",
       "      <th>0</th>\n",
       "      <td>GP</td>\n",
       "      <td>F</td>\n",
       "      <td>18</td>\n",
       "      <td>U</td>\n",
       "      <td>NaN</td>\n",
       "      <td>A</td>\n",
       "      <td>4.0</td>\n",
       "      <td>4.0</td>\n",
       "      <td>at_home</td>\n",
       "      <td>teacher</td>\n",
       "      <td>course</td>\n",
       "      <td>mother</td>\n",
       "      <td>2.0</td>\n",
       "      <td>2.0</td>\n",
       "      <td>0.0</td>\n",
       "      <td>yes</td>\n",
       "      <td>no</td>\n",
       "      <td>no</td>\n",
       "      <td>no</td>\n",
       "      <td>yes</td>\n",
       "      <td>-6.0</td>\n",
       "      <td>yes</td>\n",
       "      <td>NaN</td>\n",
       "      <td>no</td>\n",
       "      <td>4.0</td>\n",
       "      <td>3.0</td>\n",
       "      <td>4.0</td>\n",
       "      <td>3.0</td>\n",
       "      <td>6.0</td>\n",
       "      <td>30.0</td>\n",
       "    </tr>\n",
       "    <tr>\n",
       "      <th>1</th>\n",
       "      <td>GP</td>\n",
       "      <td>F</td>\n",
       "      <td>17</td>\n",
       "      <td>U</td>\n",
       "      <td>GT3</td>\n",
       "      <td>NaN</td>\n",
       "      <td>1.0</td>\n",
       "      <td>1.0</td>\n",
       "      <td>at_home</td>\n",
       "      <td>other</td>\n",
       "      <td>course</td>\n",
       "      <td>father</td>\n",
       "      <td>1.0</td>\n",
       "      <td>2.0</td>\n",
       "      <td>0.0</td>\n",
       "      <td>no</td>\n",
       "      <td>yes</td>\n",
       "      <td>no</td>\n",
       "      <td>no</td>\n",
       "      <td>no</td>\n",
       "      <td>-6.0</td>\n",
       "      <td>yes</td>\n",
       "      <td>yes</td>\n",
       "      <td>no</td>\n",
       "      <td>5.0</td>\n",
       "      <td>3.0</td>\n",
       "      <td>3.0</td>\n",
       "      <td>3.0</td>\n",
       "      <td>4.0</td>\n",
       "      <td>30.0</td>\n",
       "    </tr>\n",
       "    <tr>\n",
       "      <th>2</th>\n",
       "      <td>GP</td>\n",
       "      <td>F</td>\n",
       "      <td>15</td>\n",
       "      <td>U</td>\n",
       "      <td>LE3</td>\n",
       "      <td>T</td>\n",
       "      <td>1.0</td>\n",
       "      <td>1.0</td>\n",
       "      <td>at_home</td>\n",
       "      <td>other</td>\n",
       "      <td>other</td>\n",
       "      <td>mother</td>\n",
       "      <td>1.0</td>\n",
       "      <td>2.0</td>\n",
       "      <td>3.0</td>\n",
       "      <td>yes</td>\n",
       "      <td>no</td>\n",
       "      <td>NaN</td>\n",
       "      <td>no</td>\n",
       "      <td>yes</td>\n",
       "      <td>-6.0</td>\n",
       "      <td>yes</td>\n",
       "      <td>yes</td>\n",
       "      <td>NaN</td>\n",
       "      <td>4.0</td>\n",
       "      <td>3.0</td>\n",
       "      <td>2.0</td>\n",
       "      <td>3.0</td>\n",
       "      <td>10.0</td>\n",
       "      <td>50.0</td>\n",
       "    </tr>\n",
       "    <tr>\n",
       "      <th>3</th>\n",
       "      <td>GP</td>\n",
       "      <td>F</td>\n",
       "      <td>15</td>\n",
       "      <td>U</td>\n",
       "      <td>GT3</td>\n",
       "      <td>T</td>\n",
       "      <td>4.0</td>\n",
       "      <td>2.0</td>\n",
       "      <td>health</td>\n",
       "      <td>NaN</td>\n",
       "      <td>home</td>\n",
       "      <td>mother</td>\n",
       "      <td>1.0</td>\n",
       "      <td>3.0</td>\n",
       "      <td>0.0</td>\n",
       "      <td>no</td>\n",
       "      <td>yes</td>\n",
       "      <td>yes</td>\n",
       "      <td>yes</td>\n",
       "      <td>yes</td>\n",
       "      <td>-9.0</td>\n",
       "      <td>yes</td>\n",
       "      <td>yes</td>\n",
       "      <td>yes</td>\n",
       "      <td>3.0</td>\n",
       "      <td>2.0</td>\n",
       "      <td>2.0</td>\n",
       "      <td>5.0</td>\n",
       "      <td>2.0</td>\n",
       "      <td>75.0</td>\n",
       "    </tr>\n",
       "    <tr>\n",
       "      <th>4</th>\n",
       "      <td>GP</td>\n",
       "      <td>F</td>\n",
       "      <td>16</td>\n",
       "      <td>U</td>\n",
       "      <td>GT3</td>\n",
       "      <td>T</td>\n",
       "      <td>3.0</td>\n",
       "      <td>3.0</td>\n",
       "      <td>other</td>\n",
       "      <td>other</td>\n",
       "      <td>home</td>\n",
       "      <td>father</td>\n",
       "      <td>1.0</td>\n",
       "      <td>2.0</td>\n",
       "      <td>0.0</td>\n",
       "      <td>no</td>\n",
       "      <td>yes</td>\n",
       "      <td>yes</td>\n",
       "      <td>no</td>\n",
       "      <td>yes</td>\n",
       "      <td>-6.0</td>\n",
       "      <td>yes</td>\n",
       "      <td>no</td>\n",
       "      <td>no</td>\n",
       "      <td>4.0</td>\n",
       "      <td>3.0</td>\n",
       "      <td>2.0</td>\n",
       "      <td>5.0</td>\n",
       "      <td>4.0</td>\n",
       "      <td>50.0</td>\n",
       "    </tr>\n",
       "  </tbody>\n",
       "</table>\n",
       "</div>"
      ],
      "text/plain": [
       "  school sex  age address famsize Pstatus  Medu  Fedu     Mjob     Fjob  \\\n",
       "0     GP   F   18       U     NaN       A   4.0   4.0  at_home  teacher   \n",
       "1     GP   F   17       U     GT3     NaN   1.0   1.0  at_home    other   \n",
       "2     GP   F   15       U     LE3       T   1.0   1.0  at_home    other   \n",
       "3     GP   F   15       U     GT3       T   4.0   2.0   health      NaN   \n",
       "4     GP   F   16       U     GT3       T   3.0   3.0    other    other   \n",
       "\n",
       "   reason guardian  traveltime  studytime  failures schoolsup famsup paid  \\\n",
       "0  course   mother         2.0        2.0       0.0       yes     no   no   \n",
       "1  course   father         1.0        2.0       0.0        no    yes   no   \n",
       "2   other   mother         1.0        2.0       3.0       yes     no  NaN   \n",
       "3    home   mother         1.0        3.0       0.0        no    yes  yes   \n",
       "4    home   father         1.0        2.0       0.0        no    yes  yes   \n",
       "\n",
       "  activities nursery  studytime, granular higher internet romantic  famrel  \\\n",
       "0         no     yes                 -6.0    yes      NaN       no     4.0   \n",
       "1         no      no                 -6.0    yes      yes       no     5.0   \n",
       "2         no     yes                 -6.0    yes      yes      NaN     4.0   \n",
       "3        yes     yes                 -9.0    yes      yes      yes     3.0   \n",
       "4         no     yes                 -6.0    yes       no       no     4.0   \n",
       "\n",
       "   freetime  goout  health  absences  score  \n",
       "0       3.0    4.0     3.0       6.0   30.0  \n",
       "1       3.0    3.0     3.0       4.0   30.0  \n",
       "2       3.0    2.0     3.0      10.0   50.0  \n",
       "3       2.0    2.0     5.0       2.0   75.0  \n",
       "4       3.0    2.0     5.0       4.0   50.0  "
      ]
     },
     "execution_count": 4,
     "metadata": {},
     "output_type": "execute_result"
    }
   ],
   "source": [
    "stud.head()"
   ]
  },
  {
   "cell_type": "code",
   "execution_count": 5,
   "metadata": {},
   "outputs": [
    {
     "data": {
      "text/plain": [
       "Index(['school', 'sex', 'age', 'address', 'famsize', 'Pstatus', 'Medu', 'Fedu',\n",
       "       'Mjob', 'Fjob', 'reason', 'guardian', 'traveltime', 'studytime',\n",
       "       'failures', 'schoolsup', 'famsup', 'paid', 'activities', 'nursery',\n",
       "       'studytime, granular', 'higher', 'internet', 'romantic', 'famrel',\n",
       "       'freetime', 'goout', 'health', 'absences', 'score'],\n",
       "      dtype='object')"
      ]
     },
     "execution_count": 5,
     "metadata": {},
     "output_type": "execute_result"
    }
   ],
   "source": [
    "stud.columns"
   ]
  },
  {
   "cell_type": "code",
   "execution_count": 6,
   "metadata": {},
   "outputs": [
    {
     "data": {
      "text/html": [
       "<div>\n",
       "<style scoped>\n",
       "    .dataframe tbody tr th:only-of-type {\n",
       "        vertical-align: middle;\n",
       "    }\n",
       "\n",
       "    .dataframe tbody tr th {\n",
       "        vertical-align: top;\n",
       "    }\n",
       "\n",
       "    .dataframe thead th {\n",
       "        text-align: right;\n",
       "    }\n",
       "</style>\n",
       "<table border=\"1\" class=\"dataframe\">\n",
       "  <thead>\n",
       "    <tr style=\"text-align: right;\">\n",
       "      <th></th>\n",
       "      <th>studytime</th>\n",
       "      <th>studytime, granular</th>\n",
       "    </tr>\n",
       "  </thead>\n",
       "  <tbody>\n",
       "    <tr>\n",
       "      <th>studytime</th>\n",
       "      <td>1.0</td>\n",
       "      <td>-1.0</td>\n",
       "    </tr>\n",
       "    <tr>\n",
       "      <th>studytime, granular</th>\n",
       "      <td>-1.0</td>\n",
       "      <td>1.0</td>\n",
       "    </tr>\n",
       "  </tbody>\n",
       "</table>\n",
       "</div>"
      ],
      "text/plain": [
       "                     studytime  studytime, granular\n",
       "studytime                  1.0                 -1.0\n",
       "studytime, granular       -1.0                  1.0"
      ]
     },
     "execution_count": 6,
     "metadata": {},
     "output_type": "execute_result"
    }
   ],
   "source": [
    "# Сначала разберемся со странной колонкой 'studytime, granular'.\n",
    "# Судя по названию, она как-то связана с 'studytime'\n",
    "\n",
    "stud[['studytime', 'studytime, granular']].corr()"
   ]
  },
  {
   "cell_type": "markdown",
   "metadata": {},
   "source": [
    "### <span style='color:red'>Модификация &#8595;</span>"
   ]
  },
  {
   "cell_type": "code",
   "execution_count": 7,
   "metadata": {},
   "outputs": [],
   "source": [
    "# Да, коррелирует на 100%. Выкинем ее.\n",
    "# И сделаем названия всех колонок в нижнем регистре.\n",
    "\n",
    "if 'studytime, granular' in stud.columns:\n",
    "    stud.drop(['studytime, granular'], inplace = True, axis = 1)\n",
    "\n",
    "stud.columns = [column.lower() for column in stud.columns]"
   ]
  },
  {
   "cell_type": "code",
   "execution_count": 8,
   "metadata": {},
   "outputs": [
    {
     "name": "stdout",
     "output_type": "stream",
     "text": [
      "Числовые признаки:\n",
      "['score', 'age', 'absences']\n",
      "\n",
      "Номинативные признаки:\n",
      "['school', 'guardian', 'mjob', 'fjob']\n",
      "\n",
      "Катигориальные признаки:\n",
      "['medu', 'fedu', 'sex', 'address', 'famsize', 'pstatus', 'reason', 'traveltime', 'studytime', 'failures', 'schoolsup', 'famsup', 'paid', 'activities', 'nursery', 'higher', 'internet', 'romantic', 'famrel', 'freetime', 'goout', 'health']\n",
      "\n",
      "True\n"
     ]
    }
   ],
   "source": [
    "# Обозначим Числовые, Номинативные и Категориальные признаки\n",
    "\n",
    "numerical = ['score', 'age', 'absences']\n",
    "nominative = ['school', 'guardian', 'mjob', 'fjob']\n",
    "categorical = ['medu', 'fedu', 'sex', 'address', 'famsize', 'pstatus',\n",
    "       'reason',  'traveltime', 'studytime',\n",
    "       'failures', 'schoolsup', 'famsup', 'paid', 'activities', 'nursery',\n",
    "       'higher', 'internet', 'romantic', 'famrel', 'freetime',\n",
    "       'goout', 'health']\n",
    "\n",
    "print(f'Числовые признаки:\\n{numerical}\\n')\n",
    "print(f'Номинативные признаки:\\n{nominative}\\n')\n",
    "print(f'Катигориальные признаки:\\n{categorical}\\n')\n",
    "\n",
    "# Проверим, что ничего не потеряли\n",
    "print(sorted(numerical + nominative + categorical) == sorted(stud.columns))"
   ]
  },
  {
   "cell_type": "markdown",
   "metadata": {},
   "source": [
    "# Числовые признаки\n",
    "---"
   ]
  },
  {
   "cell_type": "code",
   "execution_count": 9,
   "metadata": {},
   "outputs": [
    {
     "data": {
      "text/plain": [
       "['score', 'age', 'absences']"
      ]
     },
     "execution_count": 9,
     "metadata": {},
     "output_type": "execute_result"
    }
   ],
   "source": [
    "numerical"
   ]
  },
  {
   "cell_type": "markdown",
   "metadata": {},
   "source": [
    "## score\n",
    "### баллы по госэкзамену по математике"
   ]
  },
  {
   "cell_type": "markdown",
   "metadata": {},
   "source": [
    "### <span style='color:red'>Модификация &#8595;</span>"
   ]
  },
  {
   "cell_type": "code",
   "execution_count": 10,
   "metadata": {},
   "outputs": [
    {
     "name": "stdout",
     "output_type": "stream",
     "text": [
      "Перед удалением: 395\n",
      "После удаления: 389\n"
     ]
    }
   ],
   "source": [
    "# Это целевая переменная, с нее и начнем.\n",
    "# Сразу выкинем строки, где целевая переменная score пустая\n",
    "\n",
    "print(\"Перед удалением:\", len(stud))\n",
    "stud.drop(stud[stud.score.isna()].index, inplace=True)\n",
    "print(\"После удаления:\", len(stud))"
   ]
  },
  {
   "cell_type": "code",
   "execution_count": 11,
   "metadata": {},
   "outputs": [
    {
     "data": {
      "text/plain": [
       "50.0     13.9\n",
       "55.0     11.8\n",
       "0.0       9.5\n",
       "75.0      8.5\n",
       "65.0      8.0\n",
       "40.0      8.0\n",
       "60.0      8.0\n",
       "70.0      6.9\n",
       "45.0      6.9\n",
       "80.0      4.1\n",
       "30.0      3.9\n",
       "90.0      3.1\n",
       "35.0      2.3\n",
       "25.0      1.8\n",
       "85.0      1.5\n",
       "95.0      1.3\n",
       "100.0     0.3\n",
       "20.0      0.3\n",
       "Name: score, dtype: float64"
      ]
     },
     "metadata": {},
     "output_type": "display_data"
    },
    {
     "data": {
      "text/plain": [
       "<AxesSubplot:>"
      ]
     },
     "execution_count": 11,
     "metadata": {},
     "output_type": "execute_result"
    },
    {
     "data": {
      "image/png": "[encoded data removed]",
      "text/plain": [
       "<Figure size 432x288 with 1 Axes>"
      ]
     },
     "metadata": {
      "needs_background": "light"
     },
     "output_type": "display_data"
    }
   ],
   "source": [
    "display(round(stud.score.value_counts(normalize=True)*100, 1))\n",
    "stud.score.hist()"
   ]
  },
  {
   "cell_type": "markdown",
   "metadata": {},
   "source": [
    "### <span style='color:red'>Модификация &#8595;</span>"
   ]
  },
  {
   "cell_type": "code",
   "execution_count": 12,
   "metadata": {},
   "outputs": [],
   "source": [
    "# Нули выбиваются из нормального распределения, но их уж очень много (10%).\n",
    "# Врядли ученик получит ноль баллов, если вообще проходит тест.\n",
    "# Возможно, это те ученики, которые по каким-то причинам \"проштрафились\" во время теста.\n",
    "# Например, им поставили ноль за то, что они списывали.\n",
    "# Оставим эти нули и введем новый признак 'penalty' по предположению, что это \"нечестные\" ученики.\n",
    "\n",
    "stud['penalty'] = stud.score.apply(lambda score: 'yes' if score == 0 else 'no')\n",
    "if 'penalty' not in categorical:\n",
    "    categorical.append('penalty')"
   ]
  },
  {
   "cell_type": "markdown",
   "metadata": {},
   "source": [
    "## age\n",
    "#### возраст ученика (от 15 до 22)"
   ]
  },
  {
   "cell_type": "code",
   "execution_count": 13,
   "metadata": {
    "scrolled": true
   },
   "outputs": [
    {
     "data": {
      "text/plain": [
       "16    103\n",
       "17     98\n",
       "15     82\n",
       "18     80\n",
       "19     21\n",
       "20      3\n",
       "22      1\n",
       "21      1\n",
       "Name: age, dtype: int64"
      ]
     },
     "execution_count": 13,
     "metadata": {},
     "output_type": "execute_result"
    }
   ],
   "source": [
    "stud.age.value_counts(dropna=False)"
   ]
  },
  {
   "cell_type": "code",
   "execution_count": 14,
   "metadata": {},
   "outputs": [
    {
     "data": {
      "text/plain": [
       "<AxesSubplot:>"
      ]
     },
     "execution_count": 14,
     "metadata": {},
     "output_type": "execute_result"
    },
    {
     "data": {
      "image/png": "[encoded data removed]",
      "text/plain": [
       "<Figure size 432x288 with 1 Axes>"
      ]
     },
     "metadata": {
      "needs_background": "light"
     },
     "output_type": "display_data"
    }
   ],
   "source": [
    "# Пустот нет, посмотрим распределение\n",
    "\n",
    "stud.age.hist(bins=stud.age.value_counts().size, rwidth=0.9)"
   ]
  },
  {
   "cell_type": "code",
   "execution_count": 15,
   "metadata": {},
   "outputs": [
    {
     "name": "stdout",
     "output_type": "stream",
     "text": [
      "Пределы выбросов по 'age': (13.0, 21.0)\n",
      "Число строк за пределами  1\n"
     ]
    }
   ],
   "source": [
    "# Выбросы по age\n",
    "\n",
    "age_q1 = stud.age.quantile(.25)\n",
    "age_q3 = stud.age.quantile(.75)\n",
    "age_iqr = age_q3 - age_q1\n",
    "age_left = age_q1 - age_iqr*1.5\n",
    "age_right = age_q3 + age_iqr*1.5\n",
    "\n",
    "print(\"Пределы выбросов по 'age': ({}, {})\".format(age_left, age_right))\n",
    "print(\"Число строк за пределами \", len(stud[~stud.age.between(age_left, age_right)]))"
   ]
  },
  {
   "cell_type": "code",
   "execution_count": 16,
   "metadata": {},
   "outputs": [
    {
     "data": {
      "text/html": [
       "<div>\n",
       "<style scoped>\n",
       "    .dataframe tbody tr th:only-of-type {\n",
       "        vertical-align: middle;\n",
       "    }\n",
       "\n",
       "    .dataframe tbody tr th {\n",
       "        vertical-align: top;\n",
       "    }\n",
       "\n",
       "    .dataframe thead th {\n",
       "        text-align: right;\n",
       "    }\n",
       "</style>\n",
       "<table border=\"1\" class=\"dataframe\">\n",
       "  <thead>\n",
       "    <tr style=\"text-align: right;\">\n",
       "      <th></th>\n",
       "      <th>age</th>\n",
       "      <th>score</th>\n",
       "    </tr>\n",
       "  </thead>\n",
       "  <tbody>\n",
       "    <tr>\n",
       "      <th>247</th>\n",
       "      <td>22</td>\n",
       "      <td>40.0</td>\n",
       "    </tr>\n",
       "  </tbody>\n",
       "</table>\n",
       "</div>"
      ],
      "text/plain": [
       "     age  score\n",
       "247   22   40.0"
      ]
     },
     "execution_count": 16,
     "metadata": {},
     "output_type": "execute_result"
    }
   ],
   "source": [
    "# Результат экзамены для строк в выбросах (там один \"возростной\" ученик, 22 года)\n",
    "\n",
    "stud[~stud.age.between(age_left, age_right)][['age', 'score']]"
   ]
  },
  {
   "cell_type": "markdown",
   "metadata": {},
   "source": [
    "### <span style='color:red'>Модификация &#8595;</span>"
   ]
  },
  {
   "cell_type": "code",
   "execution_count": 17,
   "metadata": {},
   "outputs": [
    {
     "name": "stdout",
     "output_type": "stream",
     "text": [
      "Перед удалением: 389\n",
      "После удаления: 388\n"
     ]
    }
   ],
   "source": [
    "# Выкидываем строку, что за пределами выбросов по age\n",
    "# Видимо, это какой-то уникальный \"второгодник\", который плохо подойдет для модели\n",
    "\n",
    "print(\"Перед удалением:\", len(stud))\n",
    "stud.drop(\n",
    "    stud[ ~stud.age.between(age_left, age_right) ].index,\n",
    "    inplace=True\n",
    ")\n",
    "print(\"После удаления:\", len(stud))"
   ]
  },
  {
   "cell_type": "markdown",
   "metadata": {},
   "source": [
    "## absences\n",
    "### количество пропущенных занятий"
   ]
  },
  {
   "cell_type": "code",
   "execution_count": 18,
   "metadata": {},
   "outputs": [
    {
     "name": "stdout",
     "output_type": "stream",
     "text": [
      "Число пустых: 11\n"
     ]
    },
    {
     "data": {
      "text/plain": [
       "(-0.386, 38.5]    371\n",
       "(38.5, 77.0]        4\n",
       "(346.5, 385.0]      1\n",
       "(192.5, 231.0]      1\n",
       "(308.0, 346.5]      0\n",
       "(269.5, 308.0]      0\n",
       "(231.0, 269.5]      0\n",
       "(154.0, 192.5]      0\n",
       "(115.5, 154.0]      0\n",
       "(77.0, 115.5]       0\n",
       "Name: absences, dtype: int64"
      ]
     },
     "metadata": {},
     "output_type": "display_data"
    },
    {
     "data": {
      "text/plain": [
       "<AxesSubplot:>"
      ]
     },
     "execution_count": 18,
     "metadata": {},
     "output_type": "execute_result"
    },
    {
     "data": {
      "image/png": "[encoded data removed]",
      "text/plain": [
       "<Figure size 432x288 with 1 Axes>"
      ]
     },
     "metadata": {
      "needs_background": "light"
     },
     "output_type": "display_data"
    }
   ],
   "source": [
    "print('Число пустых: {}'.format(sum(stud.absences.isna())))\n",
    "\n",
    "display(stud.absences.value_counts(bins=10))\n",
    "stud.absences.hist(bins=10, rwidth=0.9)"
   ]
  },
  {
   "cell_type": "code",
   "execution_count": 19,
   "metadata": {},
   "outputs": [
    {
     "name": "stdout",
     "output_type": "stream",
     "text": [
      "Пределы выбросов по 'absences': (-12.0, 20.0)\n",
      "Число строк за пределами (-12.0, 20.0): 17\n"
     ]
    },
    {
     "data": {
      "text/plain": [
       "<AxesSubplot:>"
      ]
     },
     "execution_count": 19,
     "metadata": {},
     "output_type": "execute_result"
    },
    {
     "data": {
      "image/png": "[encoded data removed]",
      "text/plain": [
       "<Figure size 432x288 with 1 Axes>"
      ]
     },
     "metadata": {
      "needs_background": "light"
     },
     "output_type": "display_data"
    }
   ],
   "source": [
    "# Очень мало строк по ученикам, которые отсутствовали более 25 дней.\n",
    "# Думаю, что те двое, кто отсутствовал более 200 раз, нужно убрать из модели сразу.\n",
    "# Но, посчитаем еще и выбросы.\n",
    "\n",
    "abs_q1 = stud.absences.quantile(.25)\n",
    "abs_q3 = stud.absences.quantile(.75)\n",
    "abs_iqr = abs_q3 - abs_q1\n",
    "abs_left = abs_q1 - abs_iqr*1.5\n",
    "abs_right = abs_q3 + abs_iqr*1.5\n",
    "\n",
    "print(\"Пределы выбросов по 'absences': ({}, {})\".format(abs_left, abs_right))\n",
    "print(f\"Число строк за пределами ({abs_left}, {abs_right}):\",\n",
    "      len(stud[stud.absences > abs_right])\n",
    ")\n",
    "stud[stud.absences.between(abs_left, abs_right)].absences.hist(\n",
    "    rwidth=0.9)"
   ]
  },
  {
   "cell_type": "markdown",
   "metadata": {},
   "source": [
    "### <span style='color:red'>Модификация &#8595;</span>"
   ]
  },
  {
   "cell_type": "code",
   "execution_count": 20,
   "metadata": {},
   "outputs": [
    {
     "name": "stdout",
     "output_type": "stream",
     "text": [
      "Перед удалением: 388\n",
      "После удаления: 360\n"
     ]
    }
   ],
   "source": [
    "# Так мне больше нравится. Не знаю, правильно это или нет, но пусть остануться в выборке те,\n",
    "# что меньше 30, а не меньше 20. Выкинем только 7 строк, которые больше 30.\n",
    "\n",
    "print(\"Перед удалением:\", len(stud))\n",
    "stud.drop(\n",
    "    stud[ ~stud.absences.between(abs_left, abs_right) ].index,\n",
    "    inplace=True\n",
    ")\n",
    "print(\"После удаления:\", len(stud))"
   ]
  },
  {
   "cell_type": "markdown",
   "metadata": {},
   "source": [
    "# Номинативные и Катигориальные признаки\n",
    "---"
   ]
  },
  {
   "cell_type": "code",
   "execution_count": 21,
   "metadata": {},
   "outputs": [
    {
     "name": "stdout",
     "output_type": "stream",
     "text": [
      "['school', 'guardian', 'mjob', 'fjob']\n"
     ]
    }
   ],
   "source": [
    "print(nominative)"
   ]
  },
  {
   "cell_type": "code",
   "execution_count": 22,
   "metadata": {},
   "outputs": [
    {
     "name": "stdout",
     "output_type": "stream",
     "text": [
      "['medu', 'fedu', 'sex', 'address', 'famsize', 'pstatus', 'reason', 'traveltime', 'studytime', 'failures', 'schoolsup', 'famsup', 'paid', 'activities', 'nursery', 'higher', 'internet', 'romantic', 'famrel', 'freetime', 'goout', 'health', 'penalty']\n"
     ]
    }
   ],
   "source": [
    "print(categorical)"
   ]
  },
  {
   "cell_type": "markdown",
   "metadata": {},
   "source": [
    "## school\n",
    "### аббревиатура школы, в которой учится ученик"
   ]
  },
  {
   "cell_type": "code",
   "execution_count": 23,
   "metadata": {
    "scrolled": true
   },
   "outputs": [
    {
     "data": {
      "text/plain": [
       "GP    317\n",
       "MS     43\n",
       "Name: school, dtype: int64"
      ]
     },
     "execution_count": 23,
     "metadata": {},
     "output_type": "execute_result"
    }
   ],
   "source": [
    "stud.school.value_counts(dropna=False)"
   ]
  },
  {
   "cell_type": "code",
   "execution_count": 24,
   "metadata": {},
   "outputs": [],
   "source": [
    "# Статистика всего по двум школам...\n",
    "# Как-то маловато для \"миссии повышения уровня благополучия детей по всему миру\" :)"
   ]
  },
  {
   "cell_type": "markdown",
   "metadata": {},
   "source": [
    "## sex\n",
    "### пол ученика ('F' - женский, 'M' - мужской)"
   ]
  },
  {
   "cell_type": "code",
   "execution_count": 25,
   "metadata": {},
   "outputs": [
    {
     "data": {
      "text/plain": [
       "F    188\n",
       "M    172\n",
       "Name: sex, dtype: int64"
      ]
     },
     "execution_count": 25,
     "metadata": {},
     "output_type": "execute_result"
    }
   ],
   "source": [
    "stud.sex.value_counts(dropna=False)"
   ]
  },
  {
   "cell_type": "code",
   "execution_count": 26,
   "metadata": {},
   "outputs": [],
   "source": [
    "# Тут все хорошо"
   ]
  },
  {
   "cell_type": "markdown",
   "metadata": {},
   "source": [
    "## medu\n",
    "#### образование матери (0 - нет, 1 - 4 класса, 2 - 5-9 классы, 3 - среднее специальное или 11 классов, 4 - высшее)"
   ]
  },
  {
   "cell_type": "code",
   "execution_count": 27,
   "metadata": {},
   "outputs": [
    {
     "data": {
      "text/plain": [
       "4.0    121\n",
       "2.0     93\n",
       "3.0     87\n",
       "1.0     53\n",
       "0.0      3\n",
       "NaN      3\n",
       "Name: medu, dtype: int64"
      ]
     },
     "execution_count": 27,
     "metadata": {},
     "output_type": "execute_result"
    }
   ],
   "source": [
    "stud.medu.value_counts(dropna=False)"
   ]
  },
  {
   "cell_type": "code",
   "execution_count": 28,
   "metadata": {},
   "outputs": [],
   "source": [
    "# medu пустоты пока оставляем, как есть"
   ]
  },
  {
   "cell_type": "markdown",
   "metadata": {},
   "source": [
    "## fedu\n",
    "### образование отца (0 - нет, 1 - 4 класса, 2 - 5-9 классы, 3 - среднее специальное или 11 классов, 4 - высшее)"
   ]
  },
  {
   "cell_type": "code",
   "execution_count": 29,
   "metadata": {},
   "outputs": [
    {
     "data": {
      "text/plain": [
       "2.0     98\n",
       "3.0     85\n",
       "4.0     79\n",
       "1.0     72\n",
       "NaN     23\n",
       "0.0      2\n",
       "40.0     1\n",
       "Name: fedu, dtype: int64"
      ]
     },
     "execution_count": 29,
     "metadata": {},
     "output_type": "execute_result"
    }
   ],
   "source": [
    "stud.fedu.value_counts(dropna=False)"
   ]
  },
  {
   "cell_type": "markdown",
   "metadata": {},
   "source": [
    "### <span style='color:red'>Модификация &#8595;</span>"
   ]
  },
  {
   "cell_type": "code",
   "execution_count": 30,
   "metadata": {},
   "outputs": [],
   "source": [
    "# Явно некорректное значение 40. Сотрем его\n",
    "\n",
    "stud.fedu = stud.fedu.apply(lambda fedu: np.NaN if fedu > 4 else fedu)"
   ]
  },
  {
   "cell_type": "code",
   "execution_count": 31,
   "metadata": {},
   "outputs": [
    {
     "data": {
      "text/html": [
       "<div>\n",
       "<style scoped>\n",
       "    .dataframe tbody tr th:only-of-type {\n",
       "        vertical-align: middle;\n",
       "    }\n",
       "\n",
       "    .dataframe tbody tr th {\n",
       "        vertical-align: top;\n",
       "    }\n",
       "\n",
       "    .dataframe thead th {\n",
       "        text-align: right;\n",
       "    }\n",
       "</style>\n",
       "<table border=\"1\" class=\"dataframe\">\n",
       "  <thead>\n",
       "    <tr style=\"text-align: right;\">\n",
       "      <th></th>\n",
       "      <th>fedu</th>\n",
       "      <th>medu</th>\n",
       "    </tr>\n",
       "  </thead>\n",
       "  <tbody>\n",
       "    <tr>\n",
       "      <th>fedu</th>\n",
       "      <td>1.000000</td>\n",
       "      <td>0.633681</td>\n",
       "    </tr>\n",
       "    <tr>\n",
       "      <th>medu</th>\n",
       "      <td>0.633681</td>\n",
       "      <td>1.000000</td>\n",
       "    </tr>\n",
       "  </tbody>\n",
       "</table>\n",
       "</div>"
      ],
      "text/plain": [
       "          fedu      medu\n",
       "fedu  1.000000  0.633681\n",
       "medu  0.633681  1.000000"
      ]
     },
     "execution_count": 31,
     "metadata": {},
     "output_type": "execute_result"
    }
   ],
   "source": [
    "# Теперь посмотрим на корреляцию между 'fedu' и 'medu'\n",
    "\n",
    "stud[['fedu', 'medu']].corr()"
   ]
  },
  {
   "cell_type": "code",
   "execution_count": 32,
   "metadata": {},
   "outputs": [
    {
     "name": "stdout",
     "output_type": "stream",
     "text": [
      "Строк с одновременно пустыми 'fedu' и 'medu': 0\n"
     ]
    }
   ],
   "source": [
    "# Корреляция между 'fedu' и 'medu' довольно заметная.\n",
    "# Значит пустоты 'fedu' можно не выкидывать, а заполнить значением 'medu'.\n",
    "# И наоборот, пустоты 'medu' заполнить из 'fedu'.\n",
    "\n",
    "# Действительно, вполне можно допустить, что в семье родители часто одного уровня образования.\n",
    "# Оценим, можно ли это сделать. Не будет ли такого, что обе колонки пустые:\n",
    "\n",
    "print(\"Строк с одновременно пустыми 'fedu' и 'medu':\", len(stud[(stud.fedu.isna())&(stud.medu.isna())]))"
   ]
  },
  {
   "cell_type": "code",
   "execution_count": 33,
   "metadata": {},
   "outputs": [
    {
     "name": "stdout",
     "output_type": "stream",
     "text": [
      "Число пустых 'fedu': 24\n",
      "Число пустых 'fedu', которым можно дать значение 'medu': 22\n",
      "Число пустых 'medu': 3\n",
      "Число пустых 'medu', которым можно дать значение 'fedu': 3\n"
     ]
    }
   ],
   "source": [
    "# С другой стороны, возможно, что второго родителя у ученика вообще нет. \n",
    "# Например -- мать одиночка без известного отца.\n",
    "# Попробуем дополнительно ориентироваться, что pstatus ученика имеет значение 'T'.\n",
    "# Либо ориентироваться на то, что ученик с пустой колонков xedu одного родителя имеет НЕпустой xjob\n",
    "# другого родителя, и этот непустой xjob отличен от 'other'.\n",
    "# Посмотрим сколько строк удовлетворяют данному критерию: \n",
    "\n",
    "print(\"Число пустых 'fedu':\", len(stud[(stud.fedu.isna())]))\n",
    "print(\"Число пустых 'fedu', которым можно дать значение 'medu':\", len(stud[\n",
    "    (stud.fedu.isna()) \\\n",
    "    & (\n",
    "        ( (~stud.mjob.isna()) & (stud.mjob!='other') )\n",
    "        | (stud.pstatus=='T')\n",
    "    )\n",
    "]))\n",
    "\n",
    "print(\"Число пустых 'medu':\", len(stud[(stud.medu.isna())]))\n",
    "print(\"Число пустых 'medu', которым можно дать значение 'fedu':\", len(stud[\n",
    "    (stud.medu.isna()) \\\n",
    "    & (\n",
    "        ( (~stud.fjob.isna()) & (stud.fjob!='other') )\n",
    "        | (stud.pstatus=='T')\n",
    "    )\n",
    "]))"
   ]
  },
  {
   "cell_type": "markdown",
   "metadata": {},
   "source": [
    "### <span style='color:red'>Модификация &#8595;</span>"
   ]
  },
  {
   "cell_type": "code",
   "execution_count": 34,
   "metadata": {},
   "outputs": [
    {
     "name": "stdout",
     "output_type": "stream",
     "text": [
      "Перед удалением: 360\n",
      "После удаления: 358\n"
     ]
    }
   ],
   "source": [
    "# Отлично. Только 2 строки придется выкинуть, а остальным дадим \"соседние\" значения.\n",
    "\n",
    "def fillna_edu(row, edu, base_edu, base_job):\n",
    "    \"\"\"\n",
    "    Функция для apply для заполнения пустого Xedu\n",
    "    на основе pstatus, Yedu и Yjob\n",
    "    \"\"\"\n",
    "    if pd.isnull(row[edu]):\n",
    "        if row['pstatus'] == 'T' or (not pd.isnull(row[base_job]) and row[base_job] != 'other'):\n",
    "            return row[base_edu]\n",
    "        else:\n",
    "            return row[edu]\n",
    "    else:\n",
    "        return row[edu]\n",
    "\n",
    "\n",
    "stud.medu = stud.apply(fillna_edu, edu='medu',\n",
    "                       base_edu='fedu', base_job='fjob', axis=1)\n",
    "stud.fedu = stud.apply(fillna_edu, edu='fedu',\n",
    "                       base_edu='medu', base_job='mjob', axis=1)\n",
    "\n",
    "# И удаляем строки, в которых остались пустые medu или fedu \n",
    "print(\"Перед удалением:\", len(stud))\n",
    "stud.drop(\n",
    "    stud[(stud.medu.isna()) | (stud.fedu.isna())].index,\n",
    "    inplace=True\n",
    ")\n",
    "print(\"После удаления:\", len(stud))"
   ]
  },
  {
   "cell_type": "markdown",
   "metadata": {},
   "source": [
    "## mjob\n",
    "### работа матери ('teacher' - учитель, 'health' - сфера здравоохранения, 'services' - гос служба, 'at_home' - не работает, 'other' - другое)"
   ]
  },
  {
   "cell_type": "markdown",
   "metadata": {},
   "source": [
    "## fjob\n",
    "### работа отца ('teacher' - учитель, 'health' - сфера здравоохранения, 'services' - гос служба, 'at_home' - не работает, 'other' - другое)"
   ]
  },
  {
   "cell_type": "code",
   "execution_count": 35,
   "metadata": {},
   "outputs": [
    {
     "data": {
      "text/plain": [
       "other       116\n",
       "services     87\n",
       "at_home      55\n",
       "teacher      52\n",
       "health       32\n",
       "NaN          16\n",
       "Name: mjob, dtype: int64"
      ]
     },
     "execution_count": 35,
     "metadata": {},
     "output_type": "execute_result"
    }
   ],
   "source": [
    "stud.mjob.value_counts(dropna=False)"
   ]
  },
  {
   "cell_type": "code",
   "execution_count": 36,
   "metadata": {
    "scrolled": true
   },
   "outputs": [
    {
     "data": {
      "text/plain": [
       "other       181\n",
       "services     88\n",
       "NaN          34\n",
       "teacher      25\n",
       "at_home      16\n",
       "health       14\n",
       "Name: fjob, dtype: int64"
      ]
     },
     "execution_count": 36,
     "metadata": {},
     "output_type": "execute_result"
    }
   ],
   "source": [
    "stud.fjob.value_counts(dropna=False)"
   ]
  },
  {
   "cell_type": "markdown",
   "metadata": {},
   "source": [
    "### <span style='color:blue'>Создаем функции &#8595;</span>"
   ]
  },
  {
   "cell_type": "code",
   "execution_count": 37,
   "metadata": {},
   "outputs": [],
   "source": [
    "# Попробуем в сторке с пустым mjob заполнить его на основе непустого medu.\n",
    "# Для начала возмем все данные и составим распределение количетва medu относительно mjob.\n",
    "# Будем использовать это распределение, как базу для заполнения пустых mjob случацными числами с весом.\n",
    "# Вес -- это будет medu из созданного распределения medu->mjob.\n",
    "# То же самое сделаем для fjob на основе fedu\n",
    "\n",
    "def stat_one_to_other(one, other):\n",
    "    \"\"\"\n",
    "    Функция делает статистику по распределению одной колонки (one)\n",
    "    относительно другой (other)\n",
    "    \"\"\"\n",
    "    return {\n",
    "        x: stud[stud[one] == x][other].value_counts(normalize=True)\n",
    "        for x in stud[one].dropna().unique()\n",
    "    }\n",
    "\n",
    "\n",
    "\n",
    "def fillna_one_by_other(row, one, other, other_map):\n",
    "    \"\"\"\n",
    "    Функция для apply для заполнения одного пустого поля (one)\n",
    "    случайными данными, но на основе карты с весам по статистическим данным (other_map)\n",
    "    другого поля (other)\n",
    "    \"\"\"\n",
    "    if pd.isnull(row[one]):\n",
    "        if pd.isnull(row[other]): # значение из обоих колонок пустое \n",
    "            return row[one]\n",
    "        else:\n",
    "            stat = other_map[row[other]]\n",
    "            return random.choices(stat.index, stat)[0]\n",
    "    else:\n",
    "        return row[one]"
   ]
  },
  {
   "cell_type": "markdown",
   "metadata": {},
   "source": [
    "### <span style='color:red'>Модификация &#8595;</span>"
   ]
  },
  {
   "cell_type": "code",
   "execution_count": 38,
   "metadata": {},
   "outputs": [
    {
     "data": {
      "text/plain": [
       "other       124\n",
       "services     88\n",
       "at_home      59\n",
       "teacher      54\n",
       "health       33\n",
       "Name: mjob, dtype: int64"
      ]
     },
     "metadata": {},
     "output_type": "display_data"
    },
    {
     "data": {
      "text/plain": [
       "other       203\n",
       "services     95\n",
       "teacher      27\n",
       "at_home      17\n",
       "health       16\n",
       "Name: fjob, dtype: int64"
      ]
     },
     "metadata": {},
     "output_type": "display_data"
    }
   ],
   "source": [
    "# Словарь с medu и их весами относительно mjob\n",
    "medu_to_mjob = stat_one_to_other('medu', 'mjob')\n",
    "\n",
    "# Словарь с fedu и их весами относительно fjob\n",
    "fedu_to_fjob = stat_one_to_other('fedu', 'fjob')\n",
    "\n",
    "\n",
    "random.seed(1)  # задаем зерно для повторяемости\n",
    "stud.mjob = stud.apply(fillna_one_by_other, one='mjob',\n",
    "                       other='medu', other_map=medu_to_mjob, axis=1)\n",
    "\n",
    "random.seed(1)  # задаем зерно для повторяемости\n",
    "stud.fjob = stud.apply(fillna_one_by_other, one='fjob',\n",
    "                       other='fedu', other_map=fedu_to_fjob, axis=1)\n",
    "\n",
    "# После этого пустых mjob и fjob не должно быть\n",
    "\n",
    "display(stud.mjob.value_counts(dropna=False))\n",
    "display(stud.fjob.value_counts(dropna=False))"
   ]
  },
  {
   "cell_type": "markdown",
   "metadata": {},
   "source": [
    "## guardian\n",
    "### опекун ('mother' - мать, 'father' - отец, 'other' - другое)"
   ]
  },
  {
   "cell_type": "code",
   "execution_count": 39,
   "metadata": {
    "scrolled": true
   },
   "outputs": [
    {
     "data": {
      "text/plain": [
       "mother    225\n",
       "father     83\n",
       "NaN        30\n",
       "other      20\n",
       "Name: guardian, dtype: int64"
      ]
     },
     "execution_count": 39,
     "metadata": {},
     "output_type": "execute_result"
    }
   ],
   "source": [
    "stud.guardian.value_counts(dropna=False)"
   ]
  },
  {
   "cell_type": "markdown",
   "metadata": {},
   "source": [
    "### <span style='color:red'>Модификация &#8595;</span>"
   ]
  },
  {
   "cell_type": "code",
   "execution_count": 40,
   "metadata": {},
   "outputs": [
    {
     "name": "stdout",
     "output_type": "stream",
     "text": [
      "Перед удалением: 358\n",
      "После удаления: 356\n"
     ]
    }
   ],
   "source": [
    "# Попробуем распределить пустых опекунов в зависимости от статистики pstatus\n",
    "\n",
    "pst_to_guard = stat_one_to_other('pstatus', 'guardian')\n",
    "\n",
    "random.seed(1)  # задаем зерно для повторяемости\n",
    "stud.guardian = stud.apply(fillna_one_by_other, one='guardian',\n",
    "                       other='pstatus', other_map=pst_to_guard, axis=1)\n",
    "\n",
    "# И удаляем строки, в которых остались пустые guardian\n",
    "print(\"Перед удалением:\", len(stud))\n",
    "stud.drop(\n",
    "    stud[stud.guardian.isna()].index,\n",
    "    inplace=True\n",
    ")\n",
    "print(\"После удаления:\", len(stud))"
   ]
  },
  {
   "cell_type": "markdown",
   "metadata": {},
   "source": [
    "## famsize\n",
    "### размер семьи('LE3' <= 3, 'GT3' >3)"
   ]
  },
  {
   "cell_type": "code",
   "execution_count": 41,
   "metadata": {
    "scrolled": true
   },
   "outputs": [
    {
     "data": {
      "text/plain": [
       "GT3    236\n",
       "LE3     98\n",
       "NaN     22\n",
       "Name: famsize, dtype: int64"
      ]
     },
     "execution_count": 41,
     "metadata": {},
     "output_type": "execute_result"
    }
   ],
   "source": [
    "stud.famsize.value_counts(dropna=False)"
   ]
  },
  {
   "cell_type": "markdown",
   "metadata": {},
   "source": [
    "### <span style='color:red'>Модификация &#8595;</span>"
   ]
  },
  {
   "cell_type": "code",
   "execution_count": 42,
   "metadata": {},
   "outputs": [
    {
     "name": "stdout",
     "output_type": "stream",
     "text": [
      "Перед удалением: 356\n",
      "После удаления: 353\n"
     ]
    }
   ],
   "source": [
    "# Заполним пустоты famsize так же на основе статистики pstatus\n",
    "\n",
    "pst_to_size = stat_one_to_other('pstatus', 'famsize')\n",
    "\n",
    "random.seed(1)  # задаем зерно для повторяемости\n",
    "stud.famsize = stud.apply(fillna_one_by_other, one='famsize',\n",
    "                          other='pstatus', other_map=pst_to_size, axis=1)\n",
    "\n",
    "# И удаляем строки, в которых остались пустые famsize\n",
    "print(\"Перед удалением:\", len(stud))\n",
    "stud.drop(\n",
    "    stud[stud.famsize.isna()].index,\n",
    "    inplace=True\n",
    ")\n",
    "print(\"После удаления:\", len(stud))"
   ]
  },
  {
   "cell_type": "markdown",
   "metadata": {},
   "source": [
    "## famrel\n",
    "### семейные отношения (от 1 - очень плохо до 5 - очень хорошо)"
   ]
  },
  {
   "cell_type": "code",
   "execution_count": 43,
   "metadata": {},
   "outputs": [
    {
     "data": {
      "text/plain": [
       " 4.0    162\n",
       " 5.0     89\n",
       " 3.0     54\n",
       " NaN     26\n",
       " 2.0     14\n",
       " 1.0      7\n",
       "-1.0      1\n",
       "Name: famrel, dtype: int64"
      ]
     },
     "execution_count": 43,
     "metadata": {},
     "output_type": "execute_result"
    }
   ],
   "source": [
    "stud.famrel.value_counts(dropna=False)"
   ]
  },
  {
   "cell_type": "markdown",
   "metadata": {},
   "source": [
    "### <span style='color:red'>Модификация &#8595;</span>"
   ]
  },
  {
   "cell_type": "code",
   "execution_count": 44,
   "metadata": {},
   "outputs": [],
   "source": [
    "# Сразу сбросим отрицательное значение в NaN\n",
    "\n",
    "stud.famrel = stud.famrel.apply(lambda famrel: np.NaN if famrel < 0 else famrel)"
   ]
  },
  {
   "cell_type": "markdown",
   "metadata": {},
   "source": [
    "### <span style='color:red'>Модификация &#8595;</span>"
   ]
  },
  {
   "cell_type": "code",
   "execution_count": 45,
   "metadata": {},
   "outputs": [
    {
     "name": "stdout",
     "output_type": "stream",
     "text": [
      "Перед удалением: 353\n",
      "После удаления: 352\n"
     ]
    }
   ],
   "source": [
    "# Можно попробовать заполнить пустоты famrel на основе статистики pstatus * age\n",
    "# Логично предположить, что на отношения в семье влияют возраст ученика и то,\n",
    "# вместе или раздельно живут родители\n",
    "\n",
    "pst_to_fmrl = stat_one_to_other('pstatus', 'famrel')\n",
    "\n",
    "age_to_fmrl = stat_one_to_other('age', 'famrel')\n",
    "\n",
    "# Сделаем статистику для пары pstatus age путем перемножения их вероятностей\n",
    "pst_age_to_fmrl = {\n",
    "    ap: age_to_fmrl[ap[0]] * pst_to_fmrl[ap[1]]\n",
    "    for ap in product(age_to_fmrl, pst_to_fmrl)\n",
    "}\n",
    "\n",
    "\n",
    "def fillna_one_by_others2(row, one, other1, other2, other_map):\n",
    "    \"\"\"\n",
    "    Функция для apply для заполнения одного пустого поля (one)\n",
    "    случайными данными, но на основе карты с весам по статистическим данным (other_map)\n",
    "    двух других полей (other1, other2)\n",
    "    \"\"\"\n",
    "    if pd.isnull(row[one]):\n",
    "        if pd.isnull(row[other1]) or pd.isnull(row[other2]):\n",
    "            return row[one]\n",
    "        else:\n",
    "            stat = other_map[(row[other1], row[other2])]\n",
    "            return random.choices(stat.index, stat)[0]\n",
    "    else:\n",
    "        return row[one]\n",
    "\n",
    "\n",
    "random.seed(1)  # задаем зерно для повторяемости\n",
    "stud.famrel = stud.apply(fillna_one_by_others2, one='famrel',\n",
    "                         other1='age', other2='pstatus', other_map=pst_age_to_fmrl, axis=1)\n",
    "\n",
    "# И удаляем строки, в которых остались пустые famsize\n",
    "print(\"Перед удалением:\", len(stud))\n",
    "stud.drop(\n",
    "    stud[stud.famrel.isna()].index,\n",
    "    inplace=True\n",
    ")\n",
    "print(\"После удаления:\", len(stud))"
   ]
  },
  {
   "cell_type": "markdown",
   "metadata": {},
   "source": [
    "## pstatus\n",
    "### статус совместного жилья родителей ('T' - живут вместе 'A' - раздельно)"
   ]
  },
  {
   "cell_type": "code",
   "execution_count": 46,
   "metadata": {
    "scrolled": true
   },
   "outputs": [
    {
     "data": {
      "text/plain": [
       "T      290\n",
       "NaN     32\n",
       "A       30\n",
       "Name: pstatus, dtype: int64"
      ]
     },
     "execution_count": 46,
     "metadata": {},
     "output_type": "execute_result"
    }
   ],
   "source": [
    "stud.pstatus.value_counts(dropna=False)"
   ]
  },
  {
   "cell_type": "markdown",
   "metadata": {},
   "source": [
    "### <span style='color:red'>Модификация &#8595;</span>"
   ]
  },
  {
   "cell_type": "code",
   "execution_count": 47,
   "metadata": {},
   "outputs": [],
   "source": [
    "# Заполним пустые pstatus просто значениями U (неизвестно, unknown)\n",
    "\n",
    "stud.pstatus = stud.pstatus.apply(lambda pstatus: 'U' if pd.isnull(pstatus) else pstatus)"
   ]
  },
  {
   "cell_type": "markdown",
   "metadata": {},
   "source": [
    "## traveltime\n",
    "### время в пути до школы (1 - <15 мин., 2 - 15-30 мин., 3 - 30-60 мин., 4 - >60 мин.)"
   ]
  },
  {
   "cell_type": "markdown",
   "metadata": {},
   "source": [
    "## address\n",
    "### тип адреса ученика ('U' - городской, 'R' - за городом)"
   ]
  },
  {
   "cell_type": "code",
   "execution_count": 48,
   "metadata": {},
   "outputs": [
    {
     "data": {
      "text/plain": [
       "1.0    215\n",
       "2.0     83\n",
       "NaN     26\n",
       "3.0     21\n",
       "4.0      7\n",
       "Name: traveltime, dtype: int64"
      ]
     },
     "execution_count": 48,
     "metadata": {},
     "output_type": "execute_result"
    }
   ],
   "source": [
    "stud.traveltime.value_counts(dropna=False)"
   ]
  },
  {
   "cell_type": "code",
   "execution_count": 49,
   "metadata": {
    "scrolled": true
   },
   "outputs": [
    {
     "data": {
      "text/plain": [
       "U      261\n",
       "R       77\n",
       "NaN     14\n",
       "Name: address, dtype: int64"
      ]
     },
     "execution_count": 49,
     "metadata": {},
     "output_type": "execute_result"
    }
   ],
   "source": [
    "stud.address.value_counts(dropna=False)"
   ]
  },
  {
   "cell_type": "markdown",
   "metadata": {},
   "source": [
    "### <span style='color:red'>Модификация &#8595;</span>"
   ]
  },
  {
   "cell_type": "code",
   "execution_count": 50,
   "metadata": {},
   "outputs": [
    {
     "name": "stdout",
     "output_type": "stream",
     "text": [
      "Перед удалением: 352\n",
      "После удаления: 349\n"
     ]
    }
   ],
   "source": [
    "# Логично предположить, что между временем в пути и типом адреса может быть связь.\n",
    "# Если ученик живет за городом, то ему дольше добираться до школы.\n",
    "# Попробуем на основе этого предположения взаимозаполнить пустоты в traveltime и address\n",
    "# Тоже случайными числами с весами\n",
    "# Ну, а если будет так, что и address и traveltime пустые, то такие строки удалим\n",
    "\n",
    "addr_to_time = stat_one_to_other('address', 'traveltime')\n",
    "\n",
    "time_to_addr = stat_one_to_other('traveltime', 'address')\n",
    "\n",
    "random.seed(1)  # задаем зерно для повторяемости\n",
    "stud.address = stud.apply(fillna_one_by_other, one='address',\n",
    "                          other='traveltime', other_map=time_to_addr, axis=1)\n",
    "\n",
    "random.seed(1)  # задаем зерно для повторяемости\n",
    "stud.traveltime = stud.apply(fillna_one_by_other, one='traveltime',\n",
    "                             other='address', other_map=addr_to_time, axis=1)\n",
    "\n",
    "# Удаляем строки, у которых одновременно пустые traveltime и address\n",
    "print(\"Перед удалением:\", len(stud))\n",
    "stud.drop(\n",
    "    stud[(stud.traveltime.isna()) & (stud.address.isna())].index,\n",
    "    inplace=True\n",
    ")\n",
    "print(\"После удаления:\", len(stud))"
   ]
  },
  {
   "cell_type": "markdown",
   "metadata": {},
   "source": [
    "## freetime\n",
    "### свободное время после школы (от 1 - очень мало до 5 - очень мого)"
   ]
  },
  {
   "cell_type": "markdown",
   "metadata": {},
   "source": [
    "## goout\n",
    "### проведение времени с друзьями (от 1 - очень мало до 5 - очень много)"
   ]
  },
  {
   "cell_type": "code",
   "execution_count": 51,
   "metadata": {},
   "outputs": [
    {
     "data": {
      "text/plain": [
       "3.0    139\n",
       "4.0    100\n",
       "2.0     54\n",
       "5.0     34\n",
       "1.0     15\n",
       "NaN      7\n",
       "Name: freetime, dtype: int64"
      ]
     },
     "execution_count": 51,
     "metadata": {},
     "output_type": "execute_result"
    }
   ],
   "source": [
    "stud.freetime.value_counts(dropna=False)"
   ]
  },
  {
   "cell_type": "code",
   "execution_count": 52,
   "metadata": {},
   "outputs": [
    {
     "data": {
      "text/plain": [
       "3.0    116\n",
       "2.0     91\n",
       "4.0     74\n",
       "5.0     42\n",
       "1.0     20\n",
       "NaN      6\n",
       "Name: goout, dtype: int64"
      ]
     },
     "execution_count": 52,
     "metadata": {},
     "output_type": "execute_result"
    }
   ],
   "source": [
    "stud.goout.value_counts(dropna=False)"
   ]
  },
  {
   "cell_type": "code",
   "execution_count": 53,
   "metadata": {},
   "outputs": [
    {
     "data": {
      "text/html": [
       "<div>\n",
       "<style scoped>\n",
       "    .dataframe tbody tr th:only-of-type {\n",
       "        vertical-align: middle;\n",
       "    }\n",
       "\n",
       "    .dataframe tbody tr th {\n",
       "        vertical-align: top;\n",
       "    }\n",
       "\n",
       "    .dataframe thead th {\n",
       "        text-align: right;\n",
       "    }\n",
       "</style>\n",
       "<table border=\"1\" class=\"dataframe\">\n",
       "  <thead>\n",
       "    <tr style=\"text-align: right;\">\n",
       "      <th></th>\n",
       "      <th>goout</th>\n",
       "      <th>freetime</th>\n",
       "    </tr>\n",
       "  </thead>\n",
       "  <tbody>\n",
       "    <tr>\n",
       "      <th>goout</th>\n",
       "      <td>1.000000</td>\n",
       "      <td>0.301383</td>\n",
       "    </tr>\n",
       "    <tr>\n",
       "      <th>freetime</th>\n",
       "      <td>0.301383</td>\n",
       "      <td>1.000000</td>\n",
       "    </tr>\n",
       "  </tbody>\n",
       "</table>\n",
       "</div>"
      ],
      "text/plain": [
       "             goout  freetime\n",
       "goout     1.000000  0.301383\n",
       "freetime  0.301383  1.000000"
      ]
     },
     "execution_count": 53,
     "metadata": {},
     "output_type": "execute_result"
    }
   ],
   "source": [
    "# Предположим, что свободное время напрямую влияет на время, проводимое с друзьями\n",
    "\n",
    "stud[['goout', 'freetime']].corr()"
   ]
  },
  {
   "cell_type": "code",
   "execution_count": 54,
   "metadata": {
    "scrolled": true
   },
   "outputs": [
    {
     "data": {
      "text/plain": [
       "0"
      ]
     },
     "execution_count": 54,
     "metadata": {},
     "output_type": "execute_result"
    }
   ],
   "source": [
    "# Число одновременно пустых goout и freetime\n",
    "\n",
    "len(stud[(stud.goout.isna())&(stud.freetime.isna())])"
   ]
  },
  {
   "cell_type": "markdown",
   "metadata": {},
   "source": [
    "### <span style='color:red'>Модификация &#8595;</span>"
   ]
  },
  {
   "cell_type": "code",
   "execution_count": 55,
   "metadata": {},
   "outputs": [
    {
     "data": {
      "text/plain": [
       "3.0    120\n",
       "2.0     92\n",
       "4.0     74\n",
       "5.0     43\n",
       "1.0     20\n",
       "Name: goout, dtype: int64"
      ]
     },
     "metadata": {},
     "output_type": "display_data"
    },
    {
     "data": {
      "text/plain": [
       "3.0    141\n",
       "4.0    104\n",
       "2.0     54\n",
       "5.0     35\n",
       "1.0     15\n",
       "Name: freetime, dtype: int64"
      ]
     },
     "metadata": {},
     "output_type": "display_data"
    }
   ],
   "source": [
    "# Взаимозачтем пустые значения этих двух колонок\n",
    "# Чем больше одно, тем меньше другое\n",
    "\n",
    "stud.goout = stud.apply(\n",
    "    lambda row: 6-row['freetime'] if pd.isnull(row['goout']) else row['goout'], axis=1)\n",
    "\n",
    "stud.freetime = stud.apply(\n",
    "    lambda row: 6-row['goout'] if pd.isnull(row['freetime']) else row['freetime'], axis=1)\n",
    "\n",
    "# Теперь пустых goout и freetime не должно быть\n",
    "\n",
    "display(stud.goout.value_counts(dropna=False))\n",
    "display(stud.freetime.value_counts(dropna=False))"
   ]
  },
  {
   "cell_type": "markdown",
   "metadata": {},
   "source": [
    "## activities\n",
    "### дополнительные внеучебные занятия (yes или no)"
   ]
  },
  {
   "cell_type": "markdown",
   "metadata": {},
   "source": [
    "## schoolsup\n",
    "### дополнительная образовательная поддержка (yes или no)"
   ]
  },
  {
   "cell_type": "code",
   "execution_count": 56,
   "metadata": {},
   "outputs": [
    {
     "data": {
      "text/plain": [
       "yes    177\n",
       "no     159\n",
       "NaN     13\n",
       "Name: activities, dtype: int64"
      ]
     },
     "execution_count": 56,
     "metadata": {},
     "output_type": "execute_result"
    }
   ],
   "source": [
    "stud.activities.value_counts(dropna=False)"
   ]
  },
  {
   "cell_type": "code",
   "execution_count": 57,
   "metadata": {},
   "outputs": [
    {
     "data": {
      "text/plain": [
       "no     296\n",
       "yes     44\n",
       "NaN      9\n",
       "Name: schoolsup, dtype: int64"
      ]
     },
     "execution_count": 57,
     "metadata": {},
     "output_type": "execute_result"
    }
   ],
   "source": [
    "stud.schoolsup.value_counts(dropna=False)"
   ]
  },
  {
   "cell_type": "markdown",
   "metadata": {},
   "source": [
    "### <span style='color:red'>Модификация &#8595;</span>"
   ]
  },
  {
   "cell_type": "code",
   "execution_count": 58,
   "metadata": {},
   "outputs": [
    {
     "data": {
      "text/plain": [
       "yes    183\n",
       "no     166\n",
       "Name: activities, dtype: int64"
      ]
     },
     "metadata": {},
     "output_type": "display_data"
    },
    {
     "data": {
      "text/plain": [
       "no     303\n",
       "yes     46\n",
       "Name: schoolsup, dtype: int64"
      ]
     },
     "metadata": {},
     "output_type": "display_data"
    }
   ],
   "source": [
    "# Наверно, если есть образовательная поддержка, то есть и дополнительные внеучебные занятия.\n",
    "# Взаимозаполним пустоты activities и schoolsup по этому принципу\n",
    "\n",
    "stud.activities = stud.apply(lambda row: row['schoolsup'] if pd.isnull(\n",
    "    row['activities']) else row['activities'], axis=1)\n",
    "\n",
    "stud.schoolsup = stud.apply(lambda row: row['activities'] if pd.isnull(\n",
    "    row['schoolsup']) else row['schoolsup'], axis=1)\n",
    "\n",
    "# И проверим пустоты еще раз\n",
    "display(stud.activities.value_counts(dropna=False))\n",
    "display(stud.schoolsup.value_counts(dropna=False))"
   ]
  },
  {
   "cell_type": "markdown",
   "metadata": {},
   "source": [
    "## famsup\n",
    "### семейная образовательная поддержка (yes или no)"
   ]
  },
  {
   "cell_type": "code",
   "execution_count": 59,
   "metadata": {},
   "outputs": [
    {
     "data": {
      "text/plain": [
       "yes    196\n",
       "no     120\n",
       "NaN     33\n",
       "Name: famsup, dtype: int64"
      ]
     },
     "execution_count": 59,
     "metadata": {},
     "output_type": "execute_result"
    }
   ],
   "source": [
    "stud.famsup.value_counts(dropna=False)"
   ]
  },
  {
   "cell_type": "markdown",
   "metadata": {},
   "source": [
    "### <span style='color:red'>Модификация &#8595;</span>"
   ]
  },
  {
   "cell_type": "code",
   "execution_count": 60,
   "metadata": {
    "scrolled": true
   },
   "outputs": [
    {
     "data": {
      "text/plain": [
       "yes    207\n",
       "no     142\n",
       "Name: famsup, dtype: int64"
      ]
     },
     "execution_count": 60,
     "metadata": {},
     "output_type": "execute_result"
    }
   ],
   "source": [
    "# Заполним пустоты famsup на основании образования родителей -- более образованные родители\n",
    "# желают иметь так же образованных детей.\n",
    "# Если сумма \"образованности\" родителей больше 6 (один из родителей имеет высшее, а другой\n",
    "# на один бал ниже), то поддержка есть.\n",
    "\n",
    "stud.famsup = stud.apply(lambda row: ('yes' if row['fedu']+row['medu'] > 6\n",
    "                                      else 'no') if pd.isnull(row['famsup']) else row['famsup'], axis=1)\n",
    "\n",
    "# Проверим, что теперь нет пустот в famsup\n",
    "stud.famsup.value_counts(dropna=False)"
   ]
  },
  {
   "cell_type": "markdown",
   "metadata": {},
   "source": [
    "## paid\n",
    "### дополнительные платные занятия по математике (yes или no)"
   ]
  },
  {
   "cell_type": "code",
   "execution_count": 61,
   "metadata": {},
   "outputs": [
    {
     "data": {
      "text/plain": [
       "no     180\n",
       "yes    133\n",
       "NaN     36\n",
       "Name: paid, dtype: int64"
      ]
     },
     "execution_count": 61,
     "metadata": {},
     "output_type": "execute_result"
    }
   ],
   "source": [
    "stud.paid.value_counts(dropna=False)"
   ]
  },
  {
   "cell_type": "markdown",
   "metadata": {},
   "source": [
    "### <span style='color:red'>Модификация &#8595;</span>"
   ]
  },
  {
   "cell_type": "code",
   "execution_count": 62,
   "metadata": {},
   "outputs": [
    {
     "data": {
      "text/plain": [
       "no     190\n",
       "yes    159\n",
       "Name: paid, dtype: int64"
      ]
     },
     "execution_count": 62,
     "metadata": {},
     "output_type": "execute_result"
    }
   ],
   "source": [
    "# Для заполнения пустот paid предположим, что если есть семейная или школьная поддержка,\n",
    "# то есть и платные занятия. Если поддержки никакой нет, то нет и платных занятий.\n",
    "\n",
    "stud.paid = stud.apply(\n",
    "    lambda row: ('yes' if row['famsup'] ==\n",
    "                 'yes' or row['schoolsup'] == 'yes' else 'no')\n",
    "    if pd.isnull(row['paid']) else row['paid'], axis=1)\n",
    "\n",
    "# И посмотрим на результат\n",
    "stud.paid.value_counts(dropna=False)"
   ]
  },
  {
   "cell_type": "markdown",
   "metadata": {},
   "source": [
    "## higher\n",
    "### хочет получить высшее образование (yes или no)"
   ]
  },
  {
   "cell_type": "code",
   "execution_count": 63,
   "metadata": {},
   "outputs": [
    {
     "data": {
      "text/plain": [
       "yes    317\n",
       "NaN     18\n",
       "no      14\n",
       "Name: higher, dtype: int64"
      ]
     },
     "execution_count": 63,
     "metadata": {},
     "output_type": "execute_result"
    }
   ],
   "source": [
    "stud.higher.value_counts(dropna=False)"
   ]
  },
  {
   "cell_type": "markdown",
   "metadata": {},
   "source": [
    "### <span style='color:red'>Модификация &#8595;</span>"
   ]
  },
  {
   "cell_type": "code",
   "execution_count": 64,
   "metadata": {},
   "outputs": [
    {
     "data": {
      "text/plain": [
       "yes    328\n",
       "no      21\n",
       "Name: higher, dtype: int64"
      ]
     },
     "execution_count": 64,
     "metadata": {},
     "output_type": "execute_result"
    }
   ],
   "source": [
    "# Пустоты higher заполним по принципу наличия либо платных занятий,\n",
    "# либо дополнительных занятий\n",
    "\n",
    "stud.higher = stud.apply(\n",
    "    lambda row: ('yes' if row['paid'] ==\n",
    "                 'yes' or row['activities'] == 'yes' else 'no')\n",
    "    if pd.isnull(row['higher']) else row['higher'], axis=1)\n",
    "\n",
    "# И посмотрим на результат\n",
    "stud.higher.value_counts(dropna=False)"
   ]
  },
  {
   "cell_type": "markdown",
   "metadata": {},
   "source": [
    "## reason\n",
    "### причина выбора школы ('home' - близость к дому, 'reputation' - репутация школы, 'course' - образовательная программа, 'other' - другое)"
   ]
  },
  {
   "cell_type": "code",
   "execution_count": 65,
   "metadata": {},
   "outputs": [
    {
     "data": {
      "text/plain": [
       "course        125\n",
       "reputation     91\n",
       "home           87\n",
       "other          30\n",
       "NaN            16\n",
       "Name: reason, dtype: int64"
      ]
     },
     "execution_count": 65,
     "metadata": {},
     "output_type": "execute_result"
    }
   ],
   "source": [
    "stud.reason.value_counts(dropna=False)"
   ]
  },
  {
   "cell_type": "markdown",
   "metadata": {},
   "source": [
    "### <span style='color:red'>Модификация &#8595;</span>"
   ]
  },
  {
   "cell_type": "code",
   "execution_count": 66,
   "metadata": {},
   "outputs": [],
   "source": [
    "# Заполним пустоты reason на основе higher, schoolsup и traveltime\n",
    "\n",
    "def fillna_reason(row):\n",
    "    if pd.isnull(row['reason']):\n",
    "        if row['higher'] == 'yes':\n",
    "            return 'course'\n",
    "        elif row['schoolsup'] == 'yes':\n",
    "            return 'reputation'\n",
    "        elif row['traveltime'] == 1:\n",
    "            return 'home'\n",
    "        else:\n",
    "            return 'other'\n",
    "    else:\n",
    "        return row['reason']\n",
    "\n",
    "\n",
    "stud.reason = stud.apply(fillna_reason, axis=1)"
   ]
  },
  {
   "cell_type": "markdown",
   "metadata": {},
   "source": [
    "## studytime\n",
    "### время на учёбу помимо школы в неделю (1 - <2 часов, 2 - 2-5 часов, 3 - 5-10 часов, 4 - >10 часов)"
   ]
  },
  {
   "cell_type": "code",
   "execution_count": 67,
   "metadata": {
    "scrolled": true
   },
   "outputs": [
    {
     "data": {
      "text/plain": [
       "2.0    169\n",
       "1.0     92\n",
       "3.0     56\n",
       "4.0     27\n",
       "NaN      5\n",
       "Name: studytime, dtype: int64"
      ]
     },
     "execution_count": 67,
     "metadata": {},
     "output_type": "execute_result"
    }
   ],
   "source": [
    "stud.studytime.value_counts(dropna=False)"
   ]
  },
  {
   "cell_type": "markdown",
   "metadata": {},
   "source": [
    "### <span style='color:red'>Модификация &#8595;</span>"
   ]
  },
  {
   "cell_type": "code",
   "execution_count": 68,
   "metadata": {},
   "outputs": [],
   "source": [
    "# Пустот мало по studytime. Заполним их просто случайными на основе статистики.\n",
    "\n",
    "def fillna_random(column):\n",
    "    col = stud[column].value_counts(normalize=True)\n",
    "\n",
    "    random.seed(1)  # задаем зерно для повторяемости\n",
    "    stud[column] = stud[column].apply(\n",
    "    lambda x: random.choices(col.index, col)[0] if pd.isnull(x) else x)\n",
    "\n",
    "fillna_random('studytime')"
   ]
  },
  {
   "cell_type": "markdown",
   "metadata": {},
   "source": [
    "## nursery\n",
    "### посещал детский сад (yes или no)"
   ]
  },
  {
   "cell_type": "markdown",
   "metadata": {},
   "source": [
    "## health\n",
    "### текущее состояние здоровья (от 1 - очень плохо до 5 - очень хорошо)"
   ]
  },
  {
   "cell_type": "markdown",
   "metadata": {},
   "source": [
    "## internet\n",
    "### наличие интернета дома (yes или no)"
   ]
  },
  {
   "cell_type": "markdown",
   "metadata": {},
   "source": [
    "## failures\n",
    "### количество внеучебных неудач (n, если 1<=n<=3, иначе 0)"
   ]
  },
  {
   "cell_type": "markdown",
   "metadata": {},
   "source": [
    "## romantic\n",
    "### в романтических отношениях (yes или no)"
   ]
  },
  {
   "cell_type": "code",
   "execution_count": 69,
   "metadata": {},
   "outputs": [
    {
     "data": {
      "text/plain": [
       "yes    269\n",
       "no      65\n",
       "NaN     15\n",
       "Name: nursery, dtype: int64"
      ]
     },
     "execution_count": 69,
     "metadata": {},
     "output_type": "execute_result"
    }
   ],
   "source": [
    "stud.nursery.value_counts(dropna=False)"
   ]
  },
  {
   "cell_type": "code",
   "execution_count": 70,
   "metadata": {},
   "outputs": [
    {
     "data": {
      "text/plain": [
       "5.0    123\n",
       "3.0     79\n",
       "4.0     53\n",
       "1.0     40\n",
       "2.0     39\n",
       "NaN     15\n",
       "Name: health, dtype: int64"
      ]
     },
     "execution_count": 70,
     "metadata": {},
     "output_type": "execute_result"
    }
   ],
   "source": [
    "stud.health.value_counts(dropna=False)"
   ]
  },
  {
   "cell_type": "code",
   "execution_count": 71,
   "metadata": {},
   "outputs": [
    {
     "data": {
      "text/plain": [
       "yes    265\n",
       "no      52\n",
       "NaN     32\n",
       "Name: internet, dtype: int64"
      ]
     },
     "execution_count": 71,
     "metadata": {},
     "output_type": "execute_result"
    }
   ],
   "source": [
    "stud.internet.value_counts(dropna=False)"
   ]
  },
  {
   "cell_type": "code",
   "execution_count": 72,
   "metadata": {},
   "outputs": [
    {
     "data": {
      "text/plain": [
       "0.0    266\n",
       "1.0     41\n",
       "NaN     19\n",
       "3.0     12\n",
       "2.0     11\n",
       "Name: failures, dtype: int64"
      ]
     },
     "execution_count": 72,
     "metadata": {},
     "output_type": "execute_result"
    }
   ],
   "source": [
    "stud.failures.value_counts(dropna=False)"
   ]
  },
  {
   "cell_type": "code",
   "execution_count": 73,
   "metadata": {},
   "outputs": [
    {
     "data": {
      "text/plain": [
       "no     214\n",
       "yes    106\n",
       "NaN     29\n",
       "Name: romantic, dtype: int64"
      ]
     },
     "execution_count": 73,
     "metadata": {},
     "output_type": "execute_result"
    }
   ],
   "source": [
    "stud.romantic.value_counts(dropna=False)"
   ]
  },
  {
   "cell_type": "markdown",
   "metadata": {},
   "source": [
    "### <span style='color:red'>Модификация &#8595;</span>"
   ]
  },
  {
   "cell_type": "code",
   "execution_count": 74,
   "metadata": {},
   "outputs": [],
   "source": [
    "# Пустоты в nursery, health, internet, failures и romantic заполним так же случайными на основе статистики.\n",
    "\n",
    "for column in ['nursery', 'health', 'internet', 'failures', 'romantic']:\n",
    "    fillna_random(column)"
   ]
  },
  {
   "cell_type": "markdown",
   "metadata": {},
   "source": [
    "### <span style='color:blue'>Анализ &#8595;</span>"
   ]
  },
  {
   "cell_type": "code",
   "execution_count": 75,
   "metadata": {},
   "outputs": [],
   "source": [
    "def get_stat_dif(df, column, target):\n",
    "    cols = df.loc[:, column].value_counts().index[:10]\n",
    "    combinations_all = list(combinations(cols, 2))\n",
    "    for comb in combinations_all:\n",
    "        pv = ttest_ind(df.loc[df.loc[:, column] == comb[0], target], \n",
    "                        df.loc[df.loc[:, column] == comb[1], target]).pvalue\n",
    "        if pv <= 0.05/len(combinations_all): # Учли поправку Бонферони\n",
    "            print('Найдены статистически значимые различия для колонки', column)\n",
    "            return column"
   ]
  },
  {
   "cell_type": "code",
   "execution_count": 76,
   "metadata": {},
   "outputs": [
    {
     "name": "stdout",
     "output_type": "stream",
     "text": [
      "Найдены статистически значимые различия для колонки mjob\n",
      "Найдены статистически значимые различия для колонки medu\n",
      "Найдены статистически значимые различия для колонки sex\n",
      "Найдены статистически значимые различия для колонки address\n",
      "Найдены статистически значимые различия для колонки failures\n",
      "Найдены статистически значимые различия для колонки higher\n",
      "Найдены статистически значимые различия для колонки romantic\n",
      "Найдены статистически значимые различия для колонки penalty\n"
     ]
    }
   ],
   "source": [
    "nom_cat_interest = []\n",
    "for col in nominative + categorical:\n",
    "    col = get_stat_dif(stud, col, 'score')\n",
    "    if col:\n",
    "        nom_cat_interest.append(col)"
   ]
  },
  {
   "cell_type": "markdown",
   "metadata": {},
   "source": [
    "### <span style='color:blue'>Оставляем для дальнейшей работы эти колонки &#8595;</span>"
   ]
  },
  {
   "cell_type": "code",
   "execution_count": 77,
   "metadata": {},
   "outputs": [
    {
     "name": "stdout",
     "output_type": "stream",
     "text": [
      "['score', 'age', 'absences', 'mjob', 'medu', 'sex', 'address', 'failures', 'higher', 'romantic', 'penalty']\n"
     ]
    }
   ],
   "source": [
    "interest = numerical + nom_cat_interest\n",
    "print(interest)"
   ]
  },
  {
   "cell_type": "code",
   "execution_count": 78,
   "metadata": {},
   "outputs": [],
   "source": [
    "stud_interest = stud[interest]"
   ]
  },
  {
   "cell_type": "code",
   "execution_count": 79,
   "metadata": {},
   "outputs": [
    {
     "data": {
      "text/html": [
       "<div>\n",
       "<style scoped>\n",
       "    .dataframe tbody tr th:only-of-type {\n",
       "        vertical-align: middle;\n",
       "    }\n",
       "\n",
       "    .dataframe tbody tr th {\n",
       "        vertical-align: top;\n",
       "    }\n",
       "\n",
       "    .dataframe thead th {\n",
       "        text-align: right;\n",
       "    }\n",
       "</style>\n",
       "<table border=\"1\" class=\"dataframe\">\n",
       "  <thead>\n",
       "    <tr style=\"text-align: right;\">\n",
       "      <th></th>\n",
       "      <th>score</th>\n",
       "      <th>age</th>\n",
       "      <th>absences</th>\n",
       "      <th>mjob</th>\n",
       "      <th>medu</th>\n",
       "      <th>sex</th>\n",
       "      <th>address</th>\n",
       "      <th>failures</th>\n",
       "      <th>higher</th>\n",
       "      <th>romantic</th>\n",
       "      <th>penalty</th>\n",
       "    </tr>\n",
       "  </thead>\n",
       "  <tbody>\n",
       "    <tr>\n",
       "      <th>0</th>\n",
       "      <td>30.0</td>\n",
       "      <td>18</td>\n",
       "      <td>6.0</td>\n",
       "      <td>at_home</td>\n",
       "      <td>4.0</td>\n",
       "      <td>F</td>\n",
       "      <td>U</td>\n",
       "      <td>0.0</td>\n",
       "      <td>yes</td>\n",
       "      <td>no</td>\n",
       "      <td>no</td>\n",
       "    </tr>\n",
       "    <tr>\n",
       "      <th>1</th>\n",
       "      <td>30.0</td>\n",
       "      <td>17</td>\n",
       "      <td>4.0</td>\n",
       "      <td>at_home</td>\n",
       "      <td>1.0</td>\n",
       "      <td>F</td>\n",
       "      <td>U</td>\n",
       "      <td>0.0</td>\n",
       "      <td>yes</td>\n",
       "      <td>no</td>\n",
       "      <td>no</td>\n",
       "    </tr>\n",
       "    <tr>\n",
       "      <th>2</th>\n",
       "      <td>50.0</td>\n",
       "      <td>15</td>\n",
       "      <td>10.0</td>\n",
       "      <td>at_home</td>\n",
       "      <td>1.0</td>\n",
       "      <td>F</td>\n",
       "      <td>U</td>\n",
       "      <td>3.0</td>\n",
       "      <td>yes</td>\n",
       "      <td>no</td>\n",
       "      <td>no</td>\n",
       "    </tr>\n",
       "    <tr>\n",
       "      <th>3</th>\n",
       "      <td>75.0</td>\n",
       "      <td>15</td>\n",
       "      <td>2.0</td>\n",
       "      <td>health</td>\n",
       "      <td>4.0</td>\n",
       "      <td>F</td>\n",
       "      <td>U</td>\n",
       "      <td>0.0</td>\n",
       "      <td>yes</td>\n",
       "      <td>yes</td>\n",
       "      <td>no</td>\n",
       "    </tr>\n",
       "    <tr>\n",
       "      <th>4</th>\n",
       "      <td>50.0</td>\n",
       "      <td>16</td>\n",
       "      <td>4.0</td>\n",
       "      <td>other</td>\n",
       "      <td>3.0</td>\n",
       "      <td>F</td>\n",
       "      <td>U</td>\n",
       "      <td>0.0</td>\n",
       "      <td>yes</td>\n",
       "      <td>no</td>\n",
       "      <td>no</td>\n",
       "    </tr>\n",
       "    <tr>\n",
       "      <th>...</th>\n",
       "      <td>...</td>\n",
       "      <td>...</td>\n",
       "      <td>...</td>\n",
       "      <td>...</td>\n",
       "      <td>...</td>\n",
       "      <td>...</td>\n",
       "      <td>...</td>\n",
       "      <td>...</td>\n",
       "      <td>...</td>\n",
       "      <td>...</td>\n",
       "      <td>...</td>\n",
       "    </tr>\n",
       "    <tr>\n",
       "      <th>389</th>\n",
       "      <td>0.0</td>\n",
       "      <td>18</td>\n",
       "      <td>0.0</td>\n",
       "      <td>other</td>\n",
       "      <td>1.0</td>\n",
       "      <td>F</td>\n",
       "      <td>U</td>\n",
       "      <td>1.0</td>\n",
       "      <td>yes</td>\n",
       "      <td>no</td>\n",
       "      <td>yes</td>\n",
       "    </tr>\n",
       "    <tr>\n",
       "      <th>391</th>\n",
       "      <td>80.0</td>\n",
       "      <td>17</td>\n",
       "      <td>3.0</td>\n",
       "      <td>services</td>\n",
       "      <td>3.0</td>\n",
       "      <td>M</td>\n",
       "      <td>U</td>\n",
       "      <td>0.0</td>\n",
       "      <td>yes</td>\n",
       "      <td>no</td>\n",
       "      <td>no</td>\n",
       "    </tr>\n",
       "    <tr>\n",
       "      <th>392</th>\n",
       "      <td>35.0</td>\n",
       "      <td>21</td>\n",
       "      <td>3.0</td>\n",
       "      <td>other</td>\n",
       "      <td>1.0</td>\n",
       "      <td>M</td>\n",
       "      <td>R</td>\n",
       "      <td>3.0</td>\n",
       "      <td>no</td>\n",
       "      <td>no</td>\n",
       "      <td>no</td>\n",
       "    </tr>\n",
       "    <tr>\n",
       "      <th>393</th>\n",
       "      <td>50.0</td>\n",
       "      <td>18</td>\n",
       "      <td>0.0</td>\n",
       "      <td>services</td>\n",
       "      <td>3.0</td>\n",
       "      <td>M</td>\n",
       "      <td>R</td>\n",
       "      <td>0.0</td>\n",
       "      <td>yes</td>\n",
       "      <td>no</td>\n",
       "      <td>no</td>\n",
       "    </tr>\n",
       "    <tr>\n",
       "      <th>394</th>\n",
       "      <td>45.0</td>\n",
       "      <td>19</td>\n",
       "      <td>5.0</td>\n",
       "      <td>other</td>\n",
       "      <td>1.0</td>\n",
       "      <td>M</td>\n",
       "      <td>U</td>\n",
       "      <td>0.0</td>\n",
       "      <td>yes</td>\n",
       "      <td>no</td>\n",
       "      <td>no</td>\n",
       "    </tr>\n",
       "  </tbody>\n",
       "</table>\n",
       "<p>349 rows × 11 columns</p>\n",
       "</div>"
      ],
      "text/plain": [
       "     score  age  absences      mjob  medu sex address  failures higher  \\\n",
       "0     30.0   18       6.0   at_home   4.0   F       U       0.0    yes   \n",
       "1     30.0   17       4.0   at_home   1.0   F       U       0.0    yes   \n",
       "2     50.0   15      10.0   at_home   1.0   F       U       3.0    yes   \n",
       "3     75.0   15       2.0    health   4.0   F       U       0.0    yes   \n",
       "4     50.0   16       4.0     other   3.0   F       U       0.0    yes   \n",
       "..     ...  ...       ...       ...   ...  ..     ...       ...    ...   \n",
       "389    0.0   18       0.0     other   1.0   F       U       1.0    yes   \n",
       "391   80.0   17       3.0  services   3.0   M       U       0.0    yes   \n",
       "392   35.0   21       3.0     other   1.0   M       R       3.0     no   \n",
       "393   50.0   18       0.0  services   3.0   M       R       0.0    yes   \n",
       "394   45.0   19       5.0     other   1.0   M       U       0.0    yes   \n",
       "\n",
       "    romantic penalty  \n",
       "0         no      no  \n",
       "1         no      no  \n",
       "2         no      no  \n",
       "3        yes      no  \n",
       "4         no      no  \n",
       "..       ...     ...  \n",
       "389       no     yes  \n",
       "391       no      no  \n",
       "392       no      no  \n",
       "393       no      no  \n",
       "394       no      no  \n",
       "\n",
       "[349 rows x 11 columns]"
      ]
     },
     "execution_count": 79,
     "metadata": {},
     "output_type": "execute_result"
    }
   ],
   "source": [
    "stud_interest"
   ]
  },
  {
   "cell_type": "markdown",
   "metadata": {},
   "source": [
    "### <span style='color:blue'>Выводы &#8595;</span>"
   ]
  },
  {
   "cell_type": "markdown",
   "metadata": {},
   "source": [
    "1. убрана колонка ***studytime, granular***, полностью коррелирующая с колонкой ***studytime***;\n",
    "1. большинство строк с пустыми ячейками были не выкинуты, а заполнены случайными значениями на основе весов других признаков;\n",
    "1. добавлена новый признак ***penalty*** на основе предположения, что ученики, получившие 0 баллов, получили их по административным причинам, например, были уличины в списывании;\n",
    "1. удалены выбросы по числовым колонкам;\n",
    "1. по номинативным колонкам проведен анализ и оставлены значимые колонки.\n",
    "\n",
    "Итого оставлены 349 строки c колонками:\n",
    "- score\n",
    "- age\n",
    "- absences\n",
    "- mjob\n",
    "- medu\n",
    "- sex\n",
    "- address\n",
    "- failures\n",
    "- higher\n",
    "- romantic\n",
    "- penalty"
   ]
  }
 ],
 "metadata": {
  "kernelspec": {
   "display_name": "Python 3",
   "language": "python",
   "name": "python3"
  },
  "language_info": {
   "codemirror_mode": {
    "name": "ipython",
    "version": 3
   },
   "file_extension": ".py",
   "mimetype": "text/x-python",
   "name": "python",
   "nbconvert_exporter": "python",
   "pygments_lexer": "ipython3",
   "version": "3.8.5"
  }
 },
 "nbformat": 4,
 "nbformat_minor": 4
}
